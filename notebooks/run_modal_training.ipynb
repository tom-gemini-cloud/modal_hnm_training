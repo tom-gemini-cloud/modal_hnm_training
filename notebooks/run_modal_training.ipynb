{
 "cells": [
  {
   "cell_type": "markdown",
   "id": "1712aecc",
   "metadata": {},
   "source": [
    "# BERT4Rec Training Experiments on Modal\n"
   ]
  },
  {
   "cell_type": "markdown",
   "id": "f849624b",
   "metadata": {},
   "source": [
    "**To run the training on Windows use the following command**\n",
    "\n",
    "```bash\n",
    "modal run modal/train_modal.py --epochs 20 --batch-size 512 --gpu-type A100-80GB\n",
    "```\n"
   ]
  },
  {
   "cell_type": "markdown",
   "id": "96c3dfc3",
   "metadata": {},
   "source": [
    "### Run in the `hnmdev` Modal environment\n",
    "\n",
    "To target the `hnmdev` environment, add `--env hnmdev` to your command:\n",
    "\n",
    "```bash\n",
    "modal run --env hnmdev modal/train_modal.py --epochs 20 --batch-size 512 --gpu-type A100-80GB\n",
    "```\n"
   ]
  }
 ],
 "metadata": {
  "kernelspec": {
   "display_name": ".venv",
   "language": "python",
   "name": "python3"
  },
  "language_info": {
   "name": "python",
   "version": "3.11.9"
  }
 },
 "nbformat": 4,
 "nbformat_minor": 5
}
